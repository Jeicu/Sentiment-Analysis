{
 "cells": [
  {
   "cell_type": "code",
   "execution_count": 1,
   "metadata": {},
   "outputs": [],
   "source": [
    "from sklearn.feature_extraction.text import CountVectorizer\n",
    "from sklearn.naive_bayes import BernoulliNB, MultinomialNB, GaussianNB\n",
    "from sklearn.metrics import confusion_matrix\n",
    "\n",
    "import numpy as np\n",
    "import itertools\n",
    "import matplotlib.pyplot as plt\n",
    "import pandas as pd"
   ]
  },
  {
   "cell_type": "code",
   "execution_count": 2,
   "metadata": {},
   "outputs": [],
   "source": [
    "def get_all_data():\n",
    "    data = pd.read_csv('EmotionWheel2.csv')\n",
    "    return data"
   ]
  },
  {
   "cell_type": "code",
   "execution_count": 3,
   "metadata": {},
   "outputs": [],
   "source": [
    "def preprocessing_data(data):\n",
    "    for i in range(len(data)):\n",
    "#         data['Lyrics'][i] = data['Lyrics'][i].replace('\\n',' ')\n",
    "        data['Lyrics'][i] = data['Lyrics'][i].lower()\n",
    "        data['Lyrics'][i] = data['Lyrics'][i].replace('\\n',' ')\n",
    "        data['Lyrics'][i] = ''.join(c for c in data['Lyrics'][i] if c.isalpha() | (c == ' '))\n",
    "        #print(data['Lyrics'][i])\n",
    "        for j in range(4): \n",
    "            data['Lyrics'][i] = data['Lyrics'][i] + data['Lyrics'][i]\n",
    "    return data "
   ]
  },
  {
   "cell_type": "code",
   "execution_count": 4,
   "metadata": {},
   "outputs": [],
   "source": [
    "def split_data(data):\n",
    "    total = len(data)\n",
    "    training_ratio = 0.8\n",
    "    training_data = []\n",
    "    evaluation_data = []\n",
    "\n",
    "    for indice in range(0, total):\n",
    "        if indice < total * training_ratio:\n",
    "            training_data.append([data['Lyrics'][indice],data['Anticipation'][indice]])\n",
    "        else:\n",
    "            evaluation_data.append([data['Lyrics'][indice],data['Anticipation'][indice]])\n",
    "\n",
    "    return training_data, evaluation_data"
   ]
  },
  {
   "cell_type": "code",
   "execution_count": 5,
   "metadata": {},
   "outputs": [],
   "source": [
    "def create_model():\n",
    "    data = preprocessing_data(get_all_data())\n",
    "\n",
    "    return split_data(data)"
   ]
  },
  {
   "cell_type": "code",
   "execution_count": 6,
   "metadata": {},
   "outputs": [],
   "source": [
    "def training_step(training_data, vectorizer):\n",
    "    training_text = []\n",
    "    training_result = []\n",
    "    for i in range(len(training_data)):\n",
    "        training_text.append(training_data[i][0])\n",
    "        training_result.append(training_data[i][1])\n",
    "    training_text = vectorizer.fit_transform(training_text) \n",
    "    \n",
    "    #disgust has a nan\n",
    "    print(training_text)\n",
    "    print(training_result)\n",
    "#     for result in training_result: \n",
    "#         if result == \"nan\": \n",
    "#             print(\"Error there is a nan\")\n",
    "#             result = 0\n",
    "#         else: \n",
    "#             print(\"Fine\")\n",
    "            \n",
    "            \n",
    "    classifier = MultinomialNB().fit(training_text, training_result) #remove toarray for bernoulli/multi\n",
    "    \n",
    "    return classifier"
   ]
  },
  {
   "cell_type": "code",
   "execution_count": 7,
   "metadata": {},
   "outputs": [],
   "source": [
    "def analyze_text(classifier, vectorizer, text):\n",
    "    return text, classifier.predict(vectorizer.transform([text]))"
   ]
  },
  {
   "cell_type": "code",
   "execution_count": 8,
   "metadata": {},
   "outputs": [],
   "source": [
    "def evaluate(evaluation_data):\n",
    "    evaluation_text = []\n",
    "    actual_result = []\n",
    "    for i in range(len(evaluation_data)):\n",
    "        evaluation_text.append(evaluation_data[i][0])\n",
    "        actual_result.append(int(evaluation_data[i][1]))\n",
    "\n",
    "    total = len(evaluation_text)\n",
    "    corrects = 0\n",
    "    for i in range(0, total):\n",
    "        result = classifier.predict(vectorizer.transform([evaluation_text[i]])) #remove toarray\n",
    "        text = evaluation_text[i]\n",
    "        corrects += 1 if result[0] == actual_result[i] else 0\n",
    "\n",
    "    return \"Accuracy: \", corrects * 100 / total"
   ]
  },
  {
   "cell_type": "code",
   "execution_count": 9,
   "metadata": {
    "scrolled": false
   },
   "outputs": [
    {
     "name": "stderr",
     "output_type": "stream",
     "text": [
      "/anaconda3/lib/python3.7/site-packages/ipykernel_launcher.py:4: SettingWithCopyWarning: \n",
      "A value is trying to be set on a copy of a slice from a DataFrame\n",
      "\n",
      "See the caveats in the documentation: http://pandas.pydata.org/pandas-docs/stable/indexing.html#indexing-view-versus-copy\n",
      "  after removing the cwd from sys.path.\n",
      "/anaconda3/lib/python3.7/site-packages/ipykernel_launcher.py:5: SettingWithCopyWarning: \n",
      "A value is trying to be set on a copy of a slice from a DataFrame\n",
      "\n",
      "See the caveats in the documentation: http://pandas.pydata.org/pandas-docs/stable/indexing.html#indexing-view-versus-copy\n",
      "  \"\"\"\n",
      "/anaconda3/lib/python3.7/site-packages/ipykernel_launcher.py:6: SettingWithCopyWarning: \n",
      "A value is trying to be set on a copy of a slice from a DataFrame\n",
      "\n",
      "See the caveats in the documentation: http://pandas.pydata.org/pandas-docs/stable/indexing.html#indexing-view-versus-copy\n",
      "  \n"
     ]
    },
    {
     "name": "stdout",
     "output_type": "stream",
     "text": [
      "  (0, 3137)\t1\n",
      "  (0, 3158)\t1\n",
      "  (0, 2710)\t1\n",
      "  (0, 174)\t1\n",
      "  (0, 5027)\t1\n",
      "  (0, 2809)\t1\n",
      "  (0, 4555)\t1\n",
      "  (0, 5237)\t1\n",
      "  (0, 621)\t1\n",
      "  (0, 4479)\t1\n",
      "  (0, 4703)\t1\n",
      "  (0, 1655)\t1\n",
      "  (0, 4860)\t1\n",
      "  (0, 651)\t1\n",
      "  (0, 4191)\t1\n",
      "  (0, 2593)\t1\n",
      "  (0, 4608)\t1\n",
      "  (0, 2276)\t1\n",
      "  (0, 1137)\t1\n",
      "  (0, 3156)\t1\n",
      "  (0, 2400)\t1\n",
      "  (1, 2893)\t1\n",
      "  (1, 4139)\t1\n",
      "  (1, 2943)\t1\n",
      "  (1, 1328)\t1\n",
      "  :\t:\n",
      "  (401, 2468)\t1\n",
      "  (401, 3209)\t1\n",
      "  (401, 3106)\t1\n",
      "  (401, 5244)\t1\n",
      "  (401, 2056)\t1\n",
      "  (401, 1753)\t1\n",
      "  (401, 98)\t1\n",
      "  (401, 2326)\t1\n",
      "  (401, 2257)\t1\n",
      "  (401, 2608)\t1\n",
      "  (401, 5215)\t1\n",
      "  (401, 125)\t1\n",
      "  (401, 2639)\t1\n",
      "  (401, 709)\t1\n",
      "  (401, 4883)\t1\n",
      "  (401, 3844)\t1\n",
      "  (401, 4528)\t1\n",
      "  (401, 3000)\t1\n",
      "  (401, 2693)\t1\n",
      "  (401, 3137)\t1\n",
      "  (401, 2809)\t1\n",
      "  (401, 5237)\t1\n",
      "  (401, 4703)\t1\n",
      "  (401, 651)\t1\n",
      "  (401, 2400)\t1\n",
      "[0, 0, 1, 0, 0, 0, 0, 1, 1, 0, 0, 1, 1, 0, 0, 0, 0, 1, 0, 1, 0, 1, 1, 1, 0, 0, 1, 1, 1, 0, 1, 0, 1, 0, 1, 1, 0, 0, 1, 0, 0, 0, 0, 1, 0, 1, 1, 0, 0, 1, 1, 1, 0, 0, 1, 0, 1, 1, 0, 1, 0, 0, 1, 1, 0, 1, 1, 1, 1, 0, 0, 0, 1, 0, 0, 0, 1, 0, 0, 0, 1, 0, 0, 1, 0, 0, 0, 0, 1, 1, 1, 0, 1, 1, 1, 1, 0, 1, 1, 0, 0, 0, 1, 1, 0, 1, 1, 1, 0, 0, 0, 0, 0, 0, 1, 1, 0, 0, 0, 1, 0, 0, 1, 0, 1, 0, 0, 0, 1, 0, 0, 1, 1, 1, 1, 1, 0, 1, 1, 1, 1, 0, 0, 1, 0, 0, 1, 0, 1, 0, 1, 0, 1, 0, 1, 0, 0, 0, 0, 1, 0, 1, 1, 0, 0, 0, 0, 1, 1, 1, 1, 0, 1, 0, 0, 0, 1, 0, 0, 1, 0, 0, 0, 1, 1, 0, 0, 0, 1, 1, 0, 1, 0, 1, 1, 1, 1, 0, 1, 0, 1, 0, 0, 1, 0, 0, 1, 1, 1, 0, 1, 0, 1, 1, 0, 0, 1, 1, 0, 1, 0, 1, 1, 1, 0, 1, 1, 1, 1, 0, 1, 0, 1, 1, 1, 1, 1, 1, 1, 0, 1, 1, 0, 1, 0, 1, 0, 1, 1, 0, 0, 0, 0, 1, 1, 0, 0, 1, 0, 0, 0, 0, 1, 1, 1, 0, 0, 0, 0, 0, 0, 1, 1, 1, 0, 0, 0, 1, 0, 0, 1, 0, 0, 0, 0, 0, 0, 1, 1, 1, 1, 1, 1, 0, 1, 0, 0, 1, 1, 1, 0, 0, 0, 1, 0, 1, 1, 0, 0, 0, 0, 0, 1, 0, 1, 1, 0, 1, 0, 1, 1, 0, 0, 1, 0, 1, 1, 1, 1, 0, 1, 1, 1, 0, 0, 0, 1, 1, 0, 0, 0, 1, 1, 0, 0, 1, 1, 1, 1, 0, 0, 0, 0, 1, 0, 0, 1, 1, 0, 0, 1, 1, 0, 0, 0, 0, 1, 1, 0, 0, 1, 0, 1, 0, 0, 1, 0, 0, 0, 1, 0, 0, 1, 1, 0, 0, 1, 1, 0, 1, 0, 0, 1, 0, 0, 1, 0, 0, 1, 0, 0, 1]\n"
     ]
    },
    {
     "data": {
      "text/plain": [
       "('Accuracy: ', 71.0)"
      ]
     },
     "execution_count": 9,
     "metadata": {},
     "output_type": "execute_result"
    }
   ],
   "source": [
    "training_data, evaluation_data = create_model()\n",
    "vectorizer = CountVectorizer(binary = 'true')\n",
    "classifier = training_step(training_data, vectorizer)\n",
    "evaluate(evaluation_data)"
   ]
  },
  {
   "cell_type": "code",
   "execution_count": 10,
   "metadata": {},
   "outputs": [],
   "source": [
    "def create_confusion_matrix(evaluation_data):\n",
    "    evaluation_text     = [evaluation_data[0] for evaluation_data in evaluation_data]\n",
    "    actual_result       = [int(evaluation_data[1]) for evaluation_data in evaluation_data]\n",
    "    prediction_result   = []\n",
    "    print(actual_result)\n",
    "    for text in evaluation_text:\n",
    "        analysis_result = analyze_text(classifier, vectorizer, text)\n",
    "        prediction_result.append(int(analysis_result[1][0]))\n",
    "    print(prediction_result)\n",
    "#     print(evaluation_text[9])\n",
    "    matrix = confusion_matrix(actual_result, prediction_result)\n",
    "    return matrix"
   ]
  },
  {
   "cell_type": "code",
   "execution_count": 11,
   "metadata": {
    "scrolled": true
   },
   "outputs": [
    {
     "name": "stdout",
     "output_type": "stream",
     "text": [
      "[1, 0, 1, 1, 0, 1, 0, 1, 1, 0, 1, 1, 0, 0, 1, 1, 1, 1, 1, 0, 0, 0, 0, 0, 0, 0, 0, 1, 0, 1, 0, 0, 1, 0, 0, 1, 0, 1, 1, 0, 0, 1, 0, 0, 0, 1, 0, 1, 1, 1, 0, 1, 0, 1, 1, 1, 1, 1, 1, 0, 0, 1, 0, 1, 1, 0, 1, 0, 1, 0, 1, 1, 0, 0, 1, 1, 0, 1, 0, 0, 0, 0, 0, 1, 0, 0, 1, 0, 1, 1, 0, 1, 0, 0, 0, 0, 1, 0, 1, 1]\n",
      "[1, 0, 1, 1, 0, 1, 0, 1, 1, 0, 0, 1, 0, 0, 0, 1, 1, 1, 0, 0, 0, 0, 1, 0, 1, 1, 0, 1, 0, 1, 1, 0, 0, 0, 1, 1, 1, 1, 1, 1, 0, 1, 0, 0, 0, 0, 0, 1, 1, 1, 0, 1, 1, 1, 1, 1, 1, 1, 1, 1, 1, 1, 0, 1, 1, 1, 1, 0, 0, 1, 1, 1, 1, 1, 1, 0, 1, 1, 0, 0, 0, 1, 0, 1, 1, 0, 1, 1, 1, 1, 1, 0, 0, 0, 1, 0, 1, 0, 1, 0]\n"
     ]
    },
    {
     "data": {
      "text/html": [
       "<div>\n",
       "<style scoped>\n",
       "    .dataframe tbody tr th:only-of-type {\n",
       "        vertical-align: middle;\n",
       "    }\n",
       "\n",
       "    .dataframe tbody tr th {\n",
       "        vertical-align: top;\n",
       "    }\n",
       "\n",
       "    .dataframe thead th {\n",
       "        text-align: right;\n",
       "    }\n",
       "</style>\n",
       "<table border=\"1\" class=\"dataframe\">\n",
       "  <thead>\n",
       "    <tr style=\"text-align: right;\">\n",
       "      <th></th>\n",
       "      <th>Negatives</th>\n",
       "      <th>Positives</th>\n",
       "    </tr>\n",
       "  </thead>\n",
       "  <tbody>\n",
       "    <tr>\n",
       "      <th>Negatives</th>\n",
       "      <td>31</td>\n",
       "      <td>20</td>\n",
       "    </tr>\n",
       "    <tr>\n",
       "      <th>Positives</th>\n",
       "      <td>9</td>\n",
       "      <td>40</td>\n",
       "    </tr>\n",
       "  </tbody>\n",
       "</table>\n",
       "</div>"
      ],
      "text/plain": [
       "           Negatives  Positives\n",
       "Negatives         31         20\n",
       "Positives          9         40"
      ]
     },
     "execution_count": 11,
     "metadata": {},
     "output_type": "execute_result"
    }
   ],
   "source": [
    "result = create_confusion_matrix(evaluation_data)\n",
    "pd.DataFrame(\n",
    "    result, \n",
    "    columns=[\"Negatives\", \"Positives\"],\n",
    "    index=[\"Negatives\", \"Positives\"])"
   ]
  },
  {
   "cell_type": "code",
   "execution_count": 12,
   "metadata": {},
   "outputs": [],
   "source": [
    "def print_result(result):\n",
    "    text, analysis_result = result\n",
    "    print(analysis_result)\n",
    "    print_text = \"Positive\" if analysis_result[0] == 1 else \"Negative\"\n",
    "    print(text, \":\", print_text)"
   ]
  },
  {
   "cell_type": "code",
   "execution_count": 13,
   "metadata": {},
   "outputs": [
    {
     "name": "stdout",
     "output_type": "stream",
     "text": [
      "[0]\n",
      "you are all i need coming from a guy thats on his knees at least say its fine but honestly i cant believe it that you aint leavin the world keeps testing me what can we expect i am only  you say i am alright but i am far too weak i cant believe it that you aint leavin i know that ive hurt you believe when i say i never meant too treat you this way deserve much better im such a cliché what does it matter and did it crush your mind cause i see a strange look in your eyes and every time its there i paralyze my heart stops with beating afraid that you leavin i know that ive hurt you believe when i say i never meant too treat you this way deserve much better im such a cliche what does it matter i know that ive hurt you believe when i say i never meant too treat you this way deserve much better im such a cliché what does it matter do you think youre better off alone do you think youre better off alone you think youre better off alone you think youre better off alone i know that ive hurt you believe when i say i never meant too treat you this way deserve much better im such a cliché what does it matter do you think youre better off alone do you think youre better off alone : Negative\n",
      "[0]\n",
      "said he tried to phone me but i never have time he said that i never listen but i dont even try i got a new place in cali but im gone every night so i fill it with strangers so they keep em alive she said she told you she knows me but the face isnt right she asked if i recognized her and i told her i might see everywhere i go i got a million different people tryna kick it but im still alone in my mind i know youre dying to meet me but i can just tell you this baby as soon as you meet me youll wish that you never did youll wish that you never did i stayed a night out in paris where they dont know my name and i got into some trouble with that drink in my veins i got a problem with parties cause its loud in my brain and i can never say sorry cause i wont take the blame i know i always go missing and youre lying awake but if you ask why im distant oh im runnin away you know that everywhere i go i got a million different people tryna kick it but im still alone in my mind i know youre dying to meet me but i can just tell you this baby as soon as you meet me youll wish that you never did youll wish that you never did i i know you wanna i i know you wanna i i know you wanna slip under my armor i i know you wanna i i know you wanna i i know you wanna slip under my armor see everywhere i go i got a million different people tryna hit it but im still alone in my mind i know youre dying to meet me but i can just tell you this baby as soon as you meet me youll wish that you never did youll wish that you never did yeah yeah youll wish that you never did i know you wanna slip under my armor oh i know you wanna i i know you wanna youll wish that you never did : Negative\n",
      "[0]\n",
      "kick mind dying to me just tell you as soon stayed paris they my name never say sorry lying awake why : Negative\n",
      "[0]\n",
      "paris : Negative\n",
      "[0]\n",
      "lying awake why : Negative\n"
     ]
    }
   ],
   "source": [
    "print_result(analyze_text(classifier, vectorizer, \"you are all i need coming from a guy thats on his knees at least say its fine but honestly i cant believe it that you aint leavin the world keeps testing me what can we expect i am only  you say i am alright but i am far too weak i cant believe it that you aint leavin i know that ive hurt you believe when i say i never meant too treat you this way deserve much better im such a cliché what does it matter and did it crush your mind cause i see a strange look in your eyes and every time its there i paralyze my heart stops with beating afraid that you leavin i know that ive hurt you believe when i say i never meant too treat you this way deserve much better im such a cliche what does it matter i know that ive hurt you believe when i say i never meant too treat you this way deserve much better im such a cliché what does it matter do you think youre better off alone do you think youre better off alone you think youre better off alone you think youre better off alone i know that ive hurt you believe when i say i never meant too treat you this way deserve much better im such a cliché what does it matter do you think youre better off alone do you think youre better off alone\"))\n",
    "print_result(analyze_text(classifier, vectorizer, \"said he tried to phone me but i never have time he said that i never listen but i dont even try i got a new place in cali but im gone every night so i fill it with strangers so they keep em alive she said she told you she knows me but the face isnt right she asked if i recognized her and i told her i might see everywhere i go i got a million different people tryna kick it but im still alone in my mind i know youre dying to meet me but i can just tell you this baby as soon as you meet me youll wish that you never did youll wish that you never did i stayed a night out in paris where they dont know my name and i got into some trouble with that drink in my veins i got a problem with parties cause its loud in my brain and i can never say sorry cause i wont take the blame i know i always go missing and youre lying awake but if you ask why im distant oh im runnin away you know that everywhere i go i got a million different people tryna kick it but im still alone in my mind i know youre dying to meet me but i can just tell you this baby as soon as you meet me youll wish that you never did youll wish that you never did i i know you wanna i i know you wanna i i know you wanna slip under my armor i i know you wanna i i know you wanna i i know you wanna slip under my armor see everywhere i go i got a million different people tryna hit it but im still alone in my mind i know youre dying to meet me but i can just tell you this baby as soon as you meet me youll wish that you never did youll wish that you never did yeah yeah youll wish that you never did i know you wanna slip under my armor oh i know you wanna i i know you wanna youll wish that you never did\"))\n",
    "print_result(analyze_text(classifier, vectorizer, \"kick mind dying to me just tell you as soon stayed paris they my name never say sorry lying awake why\"))\n",
    "print_result(analyze_text(classifier, vectorizer, \"paris\"))\n",
    "print_result(analyze_text(classifier, vectorizer, \"lying awake why\"))\n",
    "#correlation between ad cost and positive/negative reactions"
   ]
  },
  {
   "cell_type": "code",
   "execution_count": 14,
   "metadata": {},
   "outputs": [
    {
     "name": "stdout",
     "output_type": "stream",
     "text": [
      "[1]\n",
      "i cant wait : Positive\n"
     ]
    }
   ],
   "source": [
    "print_result(analyze_text(classifier, vectorizer, \"i cant wait\"))"
   ]
  },
  {
   "cell_type": "code",
   "execution_count": null,
   "metadata": {},
   "outputs": [],
   "source": []
  }
 ],
 "metadata": {
  "kernelspec": {
   "display_name": "Python 3",
   "language": "python",
   "name": "python3"
  },
  "language_info": {
   "codemirror_mode": {
    "name": "ipython",
    "version": 3
   },
   "file_extension": ".py",
   "mimetype": "text/x-python",
   "name": "python",
   "nbconvert_exporter": "python",
   "pygments_lexer": "ipython3",
   "version": "3.7.3"
  }
 },
 "nbformat": 4,
 "nbformat_minor": 2
}
